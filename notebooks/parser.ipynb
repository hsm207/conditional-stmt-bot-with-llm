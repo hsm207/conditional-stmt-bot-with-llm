{
 "cells": [
  {
   "attachments": {},
   "cell_type": "markdown",
   "metadata": {},
   "source": [
    "# Libraries"
   ]
  },
  {
   "cell_type": "code",
   "execution_count": 1,
   "metadata": {},
   "outputs": [],
   "source": [
    "import openai\n",
    "import tenacity"
   ]
  },
  {
   "attachments": {},
   "cell_type": "markdown",
   "metadata": {},
   "source": [
    "# Setup"
   ]
  },
  {
   "cell_type": "code",
   "execution_count": 2,
   "metadata": {},
   "outputs": [],
   "source": [
    "@tenacity.retry(\n",
    "    stop=tenacity.stop_after_attempt(3),\n",
    "    wait=tenacity.wait_exponential(multiplier=1, min=1, max=60),\n",
    "    retry=tenacity.retry_if_exception_type(openai.OpenAIError),\n",
    "    reraise=True,\n",
    ")\n",
    "def generate_completion(prompt):\n",
    "    response = openai.ChatCompletion.create(\n",
    "        model=\"gpt-3.5-turbo\",\n",
    "        messages=[{\"role\": \"user\", \"content\": prompt}],\n",
    "        temperature=0.0,\n",
    "    )\n",
    "    completed_text = response.choices[0].message[\"content\"]\n",
    "    return completed_text"
   ]
  },
  {
   "attachments": {},
   "cell_type": "markdown",
   "metadata": {},
   "source": [
    "# Dataset"
   ]
  },
  {
   "cell_type": "code",
   "execution_count": 3,
   "metadata": {},
   "outputs": [],
   "source": [
    "sentences = [\n",
    "    \"if it is snowing then set the temperature to 55 degrees\",\n",
    "    \"switch off the lights if nobody is at home\",\n",
    "    \"lock the doors when I leave home\",\n",
    "    \"turn on the heater when it is below 50 degrees\",\n",
    "    \"reduce the temperature by 5 degrees\",\n",
    "    \"open the door if my dog wants to go out\",\n",
    "]"
   ]
  },
  {
   "attachments": {},
   "cell_type": "markdown",
   "metadata": {},
   "source": [
    "# Tests"
   ]
  },
  {
   "attachments": {},
   "cell_type": "markdown",
   "metadata": {},
   "source": [
    "## Basic"
   ]
  },
  {
   "attachments": {},
   "cell_type": "markdown",
   "metadata": {},
   "source": [
    "Just identify the `condition` and `action`:"
   ]
  },
  {
   "cell_type": "code",
   "execution_count": 4,
   "metadata": {},
   "outputs": [
    {
     "name": "stdout",
     "output_type": "stream",
     "text": [
      "Input: if it is snowing then set the temperature to 55 degrees\n",
      "Output: {\n",
      "     \n",
      "      \"condition\": \"if the user is experiencing snowing then\",\n",
      "      \"action\": \"set the temperature to 55 degrees for the user\"\n",
      "\n",
      "    }\n",
      "\n",
      "Input: switch off the lights if nobody is at home\n",
      "Output: {\n",
      "     \n",
      "      \"condition\": \"if nobody is at home\",\n",
      "      \"action\": \"switch off the lights\"\n",
      "\n",
      "    }\n",
      "\n",
      "Input: lock the doors when I leave home\n",
      "Output: {\n",
      "     \n",
      "      \"condition\": \"the user leaves home\",\n",
      "      \"action\": \"lock the doors\"\n",
      "\n",
      "    }\n",
      "\n",
      "Input: turn on the heater when it is below 50 degrees\n",
      "Output: {\n",
      "     \n",
      "      \"condition\": \"the temperature is below 50 degrees\",\n",
      "      \"action\": \"turn on the heater\"\n",
      "\n",
      "    }\n",
      "\n",
      "Input: reduce the temperature by 5 degrees\n",
      "Output: {\n",
      "     \n",
      "      \"condition\": None,\n",
      "      \"action\": \"reduce the temperature by 5 degrees\"\n",
      "\n",
      "    }\n",
      "\n",
      "Input: open the door if my dog wants to go out\n",
      "Output: {\n",
      "     \n",
      "      \"condition\": \"the user's dog wants to go out\",\n",
      "      \"action\": \"open the door\"\n",
      "\n",
      "    }\n",
      "\n"
     ]
    }
   ],
   "source": [
    "for sentence in sentences:\n",
    "\n",
    "    prompt = f\"\"\"\n",
    "    You are a syntax parser for a home automation system. Given a user's sentence like:\n",
    "    \n",
    "    if <condition> then <action>\n",
    "    \n",
    "    perform the following:\n",
    "\n",
    "    1. Extract <condition> and <action>. If no condition, set it to None.\n",
    "    2. Rewrite the extracted <condition> and <action> so that any of the user's personal and possessive pronouns are replaced with \"the user\"\n",
    "    \n",
    "\n",
    "    Process this sentence using the above steps:\n",
    "\n",
    "    {sentence}\n",
    "\n",
    "    Return the result in this format:\n",
    "\n",
    "    {{\n",
    "     \n",
    "      \"condition\": <the rewritten condition from step 2>\n",
    "      \"action\": <the rewritten action from step 2>\n",
    "\n",
    "    }}\n",
    "\n",
    "    \"\"\"\n",
    "\n",
    "    completion = generate_completion(prompt)\n",
    "\n",
    "    print(f\"Input: {sentence}\")\n",
    "    print(f\"Output: {completion}\")\n",
    "    print()"
   ]
  },
  {
   "attachments": {},
   "cell_type": "markdown",
   "metadata": {},
   "source": [
    "Let's also include a message to acknowledge the user's request:"
   ]
  },
  {
   "cell_type": "code",
   "execution_count": 5,
   "metadata": {},
   "outputs": [
    {
     "name": "stdout",
     "output_type": "stream",
     "text": [
      "Input: if it is snowing then set the temperature to 55 degrees\n",
      "Output: {\n",
      "  \"condition\": \"if the user is experiencing snowing then set\",\n",
      "  \"action\": \"the temperature to 55 degrees\",\n",
      "  \"acknowledgement\": \"I will set the temperature to 55 degrees if you are experiencing snowing.\"\n",
      "}\n",
      "\n",
      "Input: switch off the lights if nobody is at home\n",
      "Output: {\n",
      "  \"condition\": \"if nobody is at home\",\n",
      "  \"action\": \"switch off the lights\",\n",
      "  \"acknowledgement\": \"I will switch off the lights if you are not at home.\"\n",
      "}\n",
      "\n",
      "Input: lock the doors when I leave home\n",
      "Output: {\n",
      "  \"condition\": \"the user leaves home\",\n",
      "  \"action\": \"lock the doors\",\n",
      "  \"acknowledgement\": \"I will make sure to lock the doors when you leave home.\"\n",
      "}\n",
      "\n",
      "Input: turn on the heater when it is below 50 degrees\n",
      "Output: {\n",
      "  \"condition\": \"the temperature is below 50 degrees\",\n",
      "  \"action\": \"turn on the heater\",\n",
      "  \"acknowledgement\": \"I will turn on the heater when your home's temperature drops below 50 degrees.\"\n",
      "}\n",
      "\n",
      "Input: reduce the temperature by 5 degrees\n",
      "Output: {\n",
      "    \"condition\": None,\n",
      "    \"action\": \"reduce the temperature by 5 degrees\",\n",
      "    \"acknowledgement\": \"I will reduce your temperature by 5 degrees.\"\n",
      "}\n",
      "\n",
      "Input: open the door if my dog wants to go out\n",
      "Output: {\n",
      "  \"condition\": \"the user's dog wants to go out\",\n",
      "  \"action\": \"open the door\",\n",
      "  \"acknowledgement\": \"I will open the door for your dog.\"\n",
      "}\n",
      "\n"
     ]
    }
   ],
   "source": [
    "for sentence in sentences:\n",
    "\n",
    "    prompt = f\"\"\"\n",
    "      You are a syntax parser for a home automation system. Given a user's sentence like:\n",
    "      \n",
    "      if <condition> then <action>\n",
    "      \n",
    "      perform the following:\n",
    "\n",
    "      1. Extract <condition> and <action>. If no condition, set it to None.\n",
    "      2. Rewrite the extracted <condition> and <action> so that any of the user's personal and possessive pronouns are replaced with \"the user\".\n",
    "      3. Create a friendly acknowledgement text. Replace any possessive references to the user with the corresponding second person\n",
    "        possessive pronoun. References to the home automation system are to be in the first person.\n",
    "      \n",
    "\n",
    "      Process this sentence using the above steps:\n",
    "\n",
    "      {sentence}\n",
    "\n",
    "      Return the result in this format:\n",
    "\n",
    "      {{\n",
    "      \n",
    "        \"condition\": <the rewritten condition from step 2>\n",
    "        \"action\": <the rewritten action from step 2>\n",
    "        \"acknowledgement\": <the acknowledgement text from step 3>\n",
    "\n",
    "      }}\n",
    "  \"\"\"\n",
    "\n",
    "    completion = generate_completion(prompt)\n",
    "\n",
    "    print(f\"Input: {sentence}\")\n",
    "    print(f\"Output: {completion}\")\n",
    "    print()"
   ]
  },
  {
   "attachments": {},
   "cell_type": "markdown",
   "metadata": {},
   "source": [
    "## Multiple Conditions"
   ]
  },
  {
   "cell_type": "code",
   "execution_count": 6,
   "metadata": {},
   "outputs": [],
   "source": [
    "advanced_commands = [\n",
    "    \"When evening falls and the daylight fades, activate the warm ambient lighting, and close the blinds for a cozy, secure atmosphere.\",\n",
    "    \"As the outdoor temperature drops below a comfortable level, adjust the thermostat to maintain warmth, and ignite the fireplace for added comfort.\",\n",
    "    \"Upon the morning alarm sounding, open the curtains to welcome the day, and start brewing a fresh pot of coffee to ease into the morning.\",\n",
    "    \"In the event of rain intensifying and no one's home, close any open windows to prevent water intrusion, and illuminate the indoor space for a brighter environment.\",\n",
    "    \"When the doorbell signals a visitor's arrival, display the live video feed from the security camera, and if the guest is recognized, unlock the door while notifying me of their presence.\",\n",
    "]"
   ]
  },
  {
   "attachments": {},
   "cell_type": "markdown",
   "metadata": {},
   "source": [
    "Reuse the same prompt:"
   ]
  },
  {
   "cell_type": "code",
   "execution_count": 7,
   "metadata": {},
   "outputs": [
    {
     "name": "stdout",
     "output_type": "stream",
     "text": [
      "Input: When evening falls and the daylight fades, activate the warm ambient lighting, and close the blinds for a cozy, secure atmosphere.\n",
      "Output: {\n",
      "  \"condition\": \"When evening falls and the daylight fades\",\n",
      "  \"action\": \"activate the warm ambient lighting, and close the blinds for a cozy, secure atmosphere\",\n",
      "  \"acknowledgement\": \"I will activate the warm ambient lighting and close the blinds for your cozy and secure atmosphere.\"\n",
      "}\n",
      "\n",
      "Input: As the outdoor temperature drops below a comfortable level, adjust the thermostat to maintain warmth, and ignite the fireplace for added comfort.\n",
      "Output: {\n",
      "  \"condition\": \"the outdoor temperature drops below a comfortable level\",\n",
      "  \"action\": \"adjust the thermostat to maintain warmth, and ignite the fireplace for added comfort\",\n",
      "  \"acknowledgement\": \"I will make sure to adjust the thermostat and ignite the fireplace to keep you warm when the temperature drops below a comfortable level.\"\n",
      "}\n",
      "\n",
      "Input: Upon the morning alarm sounding, open the curtains to welcome the day, and start brewing a fresh pot of coffee to ease into the morning.\n",
      "Output: {\n",
      "  \"condition\": \"Upon the morning alarm sounding\",\n",
      "  \"action\": \"open the curtains to welcome the day, and start brewing a fresh pot of coffee to ease into the morning\",\n",
      "  \"acknowledgement\": \"I will open the curtains to welcome your day and start brewing a fresh pot of coffee to help you ease into your morning.\"\n",
      "}\n",
      "\n",
      "Input: In the event of rain intensifying and no one's home, close any open windows to prevent water intrusion, and illuminate the indoor space for a brighter environment.\n",
      "Output: {\n",
      "  \"condition\": \"If the rain intensifies and the user is not home\",\n",
      "  \"action\": \"close any open windows to prevent water intrusion and illuminate the indoor space for a brighter environment\",\n",
      "  \"acknowledgement\": \"I will make sure to close any open windows and illuminate the indoor space for a brighter environment in case the rain intensifies while you are away.\"\n",
      "}\n",
      "\n",
      "Input: When the doorbell signals a visitor's arrival, display the live video feed from the security camera, and if the guest is recognized, unlock the door while notifying me of their presence.\n",
      "Output: {\n",
      "  \"condition\": \"When the doorbell signals a visitor's arrival\",\n",
      "  \"action\": \"display the live video feed from the security camera, and if the guest is recognized, unlock the door while notifying the user of their presence\",\n",
      "  \"acknowledgement\": \"I will display the live video feed from the security camera and unlock the door if the guest is recognized. I will notify you of their presence.\"\n",
      "}\n",
      "\n"
     ]
    }
   ],
   "source": [
    "for advanced_command in advanced_commands:\n",
    "\n",
    "    prompt = f\"\"\"\n",
    "    You are a syntax parser for a home automation system. Given a user's sentence like:\n",
    "    \n",
    "    if <condition> then <action>\n",
    "    \n",
    "    perform the following:\n",
    "\n",
    "    1. Extract <condition> and <action>. If no condition, set it to None.\n",
    "    2. Rewrite the extracted <condition> and <action> so that any of the user's personal and possessive pronouns are replaced with \"the user\".\n",
    "    3. Create a friendly acknowledgement text. Replace any possessive references to the user with the corresponding second person\n",
    "       possessive pronoun. References to the home automation system are to be in the first person.\n",
    "    \n",
    "\n",
    "    Process this sentence using the above steps:\n",
    "\n",
    "    {advanced_command}\n",
    "\n",
    "    Return the result in this format:\n",
    "\n",
    "    {{\n",
    "     \n",
    "      \"condition\": <the rewritten condition from step 2>\n",
    "      \"action\": <the rewritten action from step 2>\n",
    "      \"acknowledgement\": <the acknowledgement text from step 3>\n",
    "\n",
    "    }}\n",
    "\n",
    "    \"\"\"\n",
    "\n",
    "    completion = generate_completion(prompt)\n",
    "\n",
    "    print(f\"Input: {advanced_command}\")\n",
    "    print(f\"Output: {completion}\")\n",
    "    print()"
   ]
  },
  {
   "attachments": {},
   "cell_type": "markdown",
   "metadata": {},
   "source": [
    "Tweak the prompt a bit:"
   ]
  },
  {
   "cell_type": "code",
   "execution_count": 8,
   "metadata": {},
   "outputs": [
    {
     "name": "stdout",
     "output_type": "stream",
     "text": [
      "Input: When evening falls and the daylight fades, activate the warm ambient lighting, and close the blinds for a cozy, secure atmosphere.\n",
      "Output: {\n",
      "     \n",
      "  \"condition\": [\"When evening falls\", \"the daylight fades\"], \n",
      "  \"action\": [\"activate the warm ambient lighting\", \"close the blinds for a cozy, secure atmosphere\"],\n",
      "  \"acknowledgement\": \"I will activate the warm ambient lighting and close the blinds for your cozy and secure atmosphere.\"\n",
      "\n",
      "}\n",
      "\n",
      "Input: As the outdoor temperature drops below a comfortable level, adjust the thermostat to maintain warmth, and ignite the fireplace for added comfort.\n",
      "Output: {\n",
      "     \n",
      "      \"condition\": [\"the outdoor temperature drops below a comfortable level\"],\n",
      "      \"action\": [\"adjust the thermostat to maintain warmth\", \"ignite the fireplace for added comfort\"],\n",
      "      \"acknowledgement\": \"I will adjust the thermostat to maintain warmth and ignite the fireplace for your added comfort.\"\n",
      "      \n",
      "    }\n",
      "\n",
      "Input: Upon the morning alarm sounding, open the curtains to welcome the day, and start brewing a fresh pot of coffee to ease into the morning.\n",
      "Output: {\n",
      "     \n",
      "  \"condition\": [\"Upon the morning alarm sounding\"],\n",
      "  \"action\": [\"open the curtains to welcome the day\", \"start brewing a fresh pot of coffee to ease into the morning\"],\n",
      "  \"acknowledgement\": \"I will open the curtains to welcome your day and start brewing a fresh pot of coffee to help you ease into your morning.\"\n",
      "\n",
      "}\n",
      "\n",
      "Input: In the event of rain intensifying and no one's home, close any open windows to prevent water intrusion, and illuminate the indoor space for a brighter environment.\n",
      "Output: {\n",
      "  \"condition\": [\"If the rain intensifies and the user is not home\"],\n",
      "  \"action\": [\"Close any open windows to prevent water intrusion\", \"Illuminate the indoor space for a brighter environment\"],\n",
      "  \"acknowledgement\": \"I will make sure to close any open windows and illuminate the indoor space for a brighter environment if it starts raining harder and you're not home. Thank you for entrusting me with your home automation needs.\"\n",
      "}\n",
      "\n",
      "Input: When the doorbell signals a visitor's arrival, display the live video feed from the security camera, and if the guest is recognized, unlock the door while notifying me of their presence.\n",
      "Output: {\n",
      "     \n",
      "      \"condition\": [\"When the doorbell signals a visitor's arrival\"],\n",
      "      \"action\": [\"display the live video feed from the security camera\", \"if the guest is recognized, unlock the door while notifying the user of their presence\"],\n",
      "      \"acknowledgement\": \"I will display the live video feed from the security camera and unlock the door if the guest is recognized. I will notify you of their presence.\"\n",
      "      \n",
      "    }\n",
      "\n"
     ]
    }
   ],
   "source": [
    "for advanced_command in advanced_commands:\n",
    "\n",
    "    prompt = f\"\"\"\n",
    "    You are a syntax parser for a home automation system. Given a user's sentence like:\n",
    "    \n",
    "    if <condition> then <action>\n",
    "    \n",
    "    perform the following:\n",
    "\n",
    "    1. Extract <condition> and <action>. If no condition, set it to None.\n",
    "    2. Rewrite the extracted <condition> and <action> so that any of the user's personal and possessive pronouns are replaced with \"the user\".\n",
    "    3. Create a friendly acknowledgement text. Replace any possessive references to the user with the corresponding second person\n",
    "       possessive pronoun. References to the home automation system are to be in the first person.\n",
    "    \n",
    "\n",
    "    Process this sentence using the above steps:\n",
    "\n",
    "    {advanced_command}\n",
    "\n",
    "    Return the result in this format:\n",
    "\n",
    "    {{\n",
    "     \n",
    "      \"condition\": <the rewritten conditions from step 2 as a list> \n",
    "      \"action\": <the rewritten actions from step 2> as a as a list\n",
    "      \"acknowledgement\": <the acknowledgement text from step 3>\n",
    "\n",
    "    }}\n",
    "\n",
    "    \"\"\"\n",
    "\n",
    "    completion = generate_completion(prompt)\n",
    "\n",
    "    print(f\"Input: {advanced_command}\")\n",
    "    print(f\"Output: {completion}\")\n",
    "    print()"
   ]
  }
 ],
 "metadata": {
  "kernelspec": {
   "display_name": "Python 3",
   "language": "python",
   "name": "python3"
  },
  "language_info": {
   "codemirror_mode": {
    "name": "ipython",
    "version": 3
   },
   "file_extension": ".py",
   "mimetype": "text/x-python",
   "name": "python",
   "nbconvert_exporter": "python",
   "pygments_lexer": "ipython3",
   "version": "3.8.10"
  },
  "orig_nbformat": 4
 },
 "nbformat": 4,
 "nbformat_minor": 2
}
